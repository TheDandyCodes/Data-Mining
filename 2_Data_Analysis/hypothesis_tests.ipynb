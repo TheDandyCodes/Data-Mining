{
 "cells": [
  {
   "cell_type": "markdown",
   "metadata": {},
   "source": [
    "https://machinelearningmastery.com/statistical-hypothesis-tests-in-python-cheat-sheet/"
   ]
  },
  {
   "cell_type": "markdown",
   "metadata": {},
   "source": [
    "1. **Normality Tests**\n",
    "   1. Shapiro-Wilk Test\n",
    "   2. D’Agostino’s K^2 Test\n",
    "   3. Anderson-Darling Test\n",
    "\n",
    "2. **Correlation Tests**\n",
    "   1. Pearson’s Correlation Coefficient\n",
    "   2. Spearman’s Rank Correlation\n",
    "   3. Kendall’s Rank Correlation\n",
    "   4. Chi-Squared Test\n",
    "\n",
    "3. **Stationary Tests**\n",
    "   1. Augmented Dickey-Fuller\n",
    "   2. Kwiatkowski-Phillips-Schmidt-Shin\n",
    "\n",
    "4. **Parametric Statistical Hypothesis Tests**\n",
    "   1. Student’s t-test\n",
    "   2. Paired Student’s t-test\n",
    "   3. Analysis of Variance Test (ANOVA)\n",
    "   4. Repeated Measures ANOVA Test\n",
    "\n",
    "5. **Nonparametric Statistical Hypothesis Tests**\n",
    "   1. Mann-Whitney U Test\n",
    "   2. Wilcoxon Signed-Rank Test\n",
    "   3. Kruskal-Wallis H Test\n",
    "   4. Friedman Test"
   ]
  },
  {
   "cell_type": "markdown",
   "metadata": {},
   "source": [
    "# 1. Normality Tests"
   ]
  },
  {
   "cell_type": "markdown",
   "metadata": {},
   "source": [
    "This section lists statistical tests that you can use to check if your data has a Gaussian distribution."
   ]
  },
  {
   "cell_type": "markdown",
   "metadata": {},
   "source": [
    "## Shapiro-Wilk Test"
   ]
  },
  {
   "cell_type": "markdown",
   "metadata": {},
   "source": [
    "Imagine that you have a data sample ordered as [1, 2, 3, 4, 5] and the theoretical expected values in a normal distribution for these points are [1.1, 2.1, 3.0, 4.0, 5.1]. The difference between each observed and expected value would be small, which would generate a high W value and a conclusion of normality. However, if the observed values were [1, 1, 1, 3, 5, 8], the deviations would be larger, resulting in a low W and indicating that the sample probably does not follow a normal distribution.\n",
    "\n",
    "**Assumptions**\n",
    "\n",
    "Observations in each sample are independent and identically distributed (iid).\n",
    "\n",
    "**Interpretation**\n",
    "\n",
    "- **H0**: the sample has a Gaussian distribution.\n",
    "- **H1**: the sample does not have a Gaussian distribution."
   ]
  },
  {
   "cell_type": "code",
   "execution_count": 9,
   "metadata": {},
   "outputs": [
    {
     "name": "stdout",
     "output_type": "stream",
     "text": [
      "stat=0.895, p=0.193\n",
      "Probably Gaussian\n"
     ]
    }
   ],
   "source": [
    "from scipy.stats import shapiro\n",
    "data = [0.873, 2.817, 0.121, -0.945, -0.055, -1.436, 0.360, -1.478, -1.637, -1.869]\n",
    "stat, p = shapiro(data)\n",
    "print('stat=%.3f, p=%.3f' % (stat, p))\n",
    "if p > 0.05:\n",
    "\tprint('Probably Gaussian')\n",
    "else:\n",
    "\tprint('Probably not Gaussian')"
   ]
  },
  {
   "cell_type": "markdown",
   "metadata": {},
   "source": [
    "## D’Agostino’s $K^2$ Test"
   ]
  },
  {
   "cell_type": "markdown",
   "metadata": {},
   "source": [
    "Este test se enfoca en dos características de la distribución: la **asimetría (skewness)** y la **curtosis (kurtosis)**\n",
    "\n",
    "**Assumptions**\n",
    "\n",
    "Observations in each sample are independent and identically distributed (iid).\n",
    "\n",
    "**Interpretation**\n",
    "\n",
    "- **H0**: the sample has a Gaussian distribution.\n",
    "- **H1**: the sample does not have a Gaussian distribution."
   ]
  },
  {
   "cell_type": "code",
   "execution_count": 10,
   "metadata": {},
   "outputs": [
    {
     "name": "stdout",
     "output_type": "stream",
     "text": [
      "stat=3.392, p=0.183\n",
      "Probably Gaussian\n"
     ]
    },
    {
     "name": "stderr",
     "output_type": "stream",
     "text": [
      "/opt/miniconda3/envs/DataMining/lib/python3.12/site-packages/scipy/stats/_axis_nan_policy.py:531: UserWarning: kurtosistest only valid for n>=20 ... continuing anyway, n=10\n",
      "  res = hypotest_fun_out(*samples, **kwds)\n"
     ]
    }
   ],
   "source": [
    "from scipy.stats import normaltest\n",
    "data = [0.873, 2.817, 0.121, -0.945, -0.055, -1.436, 0.360, -1.478, -1.637, -1.869]\n",
    "stat, p = normaltest(data)\n",
    "print('stat=%.3f, p=%.3f' % (stat, p))\n",
    "if p > 0.05:\n",
    "\tprint('Probably Gaussian')\n",
    "else:\n",
    "\tprint('Probably not Gaussian')"
   ]
  },
  {
   "cell_type": "markdown",
   "metadata": {},
   "source": [
    "## Anderson-Darling Test"
   ]
  },
  {
   "cell_type": "markdown",
   "metadata": {},
   "source": [
    "Is an improved version of the **Kolmogorov-Smirnov** test, as it gives more weight to the extremes of the distribution, making it particularly useful for detecting deviations in the tails of the distribution **(extreme values)**.\n",
    "\n",
    "**Assumptions**\n",
    "\n",
    "Observations in each sample are independent and identically distributed (iid).\n",
    "\n",
    "**Interpretation**\n",
    "\n",
    "- **H0**: the sample has a Gaussian distribution.\n",
    "- **H1**: the sample does not have a Gaussian distribution."
   ]
  },
  {
   "cell_type": "code",
   "execution_count": 16,
   "metadata": {},
   "outputs": [
    {
     "name": "stdout",
     "output_type": "stream",
     "text": [
      "stat=0.4239737141854807\n",
      "Probably Gaussian\n"
     ]
    }
   ],
   "source": [
    "from scipy.stats import anderson\n",
    "data = [0.873, 2.817, 0.121, -0.945, -0.055, -1.436, 0.360, -1.478, -1.637, -1.869]\n",
    "result = anderson(data)\n",
    "print(f\"stat={result.statistic}\")\n",
    "if p > 0.05:\n",
    "\tprint('Probably Gaussian')\n",
    "else:\n",
    "\tprint('Probably not Gaussian')"
   ]
  },
  {
   "cell_type": "markdown",
   "metadata": {},
   "source": [
    "# 2. Correlation Tests"
   ]
  },
  {
   "cell_type": "markdown",
   "metadata": {},
   "source": [
    "## Pearson's correlation Coefficient"
   ]
  },
  {
   "cell_type": "markdown",
   "metadata": {},
   "source": [
    "This section lists statistical tests that you can use to check if two samples are related.\n",
    "\n",
    "**Assumptions**\n",
    "\n",
    "- Observations in each sample are independent and identically distributed (iid).\n",
    "- Observations in each sample are normally distributed\n",
    "- Observations in each sample have the same variance\n",
    "\n",
    "**Interpretation**\n",
    "\n",
    "- **H0**: the two samples are independent.\n",
    "- **H1**: there is a dependency between the samples."
   ]
  },
  {
   "cell_type": "code",
   "execution_count": 23,
   "metadata": {},
   "outputs": [
    {
     "data": {
      "image/png": "[encoded data removed]",
      "text/plain": [
       "<Figure size 640x480 with 2 Axes>"
      ]
     },
     "metadata": {},
     "output_type": "display_data"
    }
   ],
   "source": [
    "import pandas as pd\n",
    "import seaborn as sns\n",
    "import matplotlib.pyplot as plt\n",
    "data1 = [0.873, 2.817, 0.121, -0.945, -0.055, -1.436, 0.360, -1.478, -1.637, -1.869]\n",
    "data2 = [0.353, 3.517, 0.125, -7.545, -0.555, -1.536, 3.350, -1.578, -3.537, -1.579]\n",
    "corr_matrix = pd.DataFrame({'data1': data1, 'data2': data2}).corr(method='pearson')\n",
    "sns.heatmap(corr_matrix, annot=True, cmap='coolwarm')\n",
    "plt.show()"
   ]
  },
  {
   "cell_type": "code",
   "execution_count": 24,
   "metadata": {},
   "outputs": [
    {
     "name": "stdout",
     "output_type": "stream",
     "text": [
      "stat=0.688, p=0.028\n",
      "Probably dependent\n"
     ]
    }
   ],
   "source": [
    "from scipy.stats import pearsonr\n",
    "data1 = [0.873, 2.817, 0.121, -0.945, -0.055, -1.436, 0.360, -1.478, -1.637, -1.869]\n",
    "data2 = [0.353, 3.517, 0.125, -7.545, -0.555, -1.536, 3.350, -1.578, -3.537, -1.579]\n",
    "stat, p = pearsonr(data1, data2)\n",
    "print('stat=%.3f, p=%.3f' % (stat, p))\n",
    "if p > 0.05:\n",
    "\tprint('Probably independent')\n",
    "else:\n",
    "\tprint('Probably dependent')"
   ]
  },
  {
   "cell_type": "markdown",
   "metadata": {},
   "source": [
    "## Spearman's Rank Correlation"
   ]
  },
  {
   "cell_type": "markdown",
   "metadata": {},
   "source": [
    "Tests whether two samples have a **monotonic relationship**.\n",
    "\n",
    "**Assumptions**\n",
    "\n",
    "- Observations in each sample are independent and identically distributed (iid).\n",
    "- Observations in each sample can be ranked\n",
    "\n",
    "**Interpretation**\n",
    "\n",
    "- **H0**: the two samples are independent.\n",
    "- **H1**: there is a dependency between the samples."
   ]
  },
  {
   "cell_type": "code",
   "execution_count": 25,
   "metadata": {},
   "outputs": [
    {
     "name": "stdout",
     "output_type": "stream",
     "text": [
      "stat=0.855, p=0.002\n",
      "Probably dependent\n"
     ]
    }
   ],
   "source": [
    "from scipy.stats import spearmanr\n",
    "data1 = [0.873, 2.817, 0.121, -0.945, -0.055, -1.436, 0.360, -1.478, -1.637, -1.869]\n",
    "data2 = [0.353, 3.517, 0.125, -7.545, -0.555, -1.536, 3.350, -1.578, -3.537, -1.579]\n",
    "stat, p = spearmanr(data1, data2)\n",
    "print('stat=%.3f, p=%.3f' % (stat, p))\n",
    "if p > 0.05:\n",
    "    print('Probably independent')\n",
    "else:\n",
    "    print('Probably dependent')"
   ]
  },
  {
   "cell_type": "markdown",
   "metadata": {},
   "source": [
    "## Kendall's Rank Correlation"
   ]
  },
  {
   "cell_type": "markdown",
   "metadata": {},
   "source": [
    "Tests whether two samples have a **monotonic relationship**.\n",
    "\n",
    "Se examinan todos los pares posibles de observaciones $(x_i, y_i)$ y se determina si son concordantes o discordantes:\n",
    "- Un par es **concordante** si, para un par de observaciones $(x_i, y_i)$ y $(x_j, y_j)$, se cumple que tanto $x_i < x_j$ como $y_i < y_j$ o bien $x_i > x_j$ y $y_i > y_j$.\n",
    "- Un par es **discordante** si  $x_i < x_j$ pero $y_i > y_j$ o bien $x_i > x_j$ y $y_i < y_j$.\n",
    "\n",
    "**Assumptions**\n",
    "\n",
    "- Observations in each sample are independent and identically distributed (iid).\n",
    "- Observations in each sample can be ranked\n",
    "\n",
    "**Interpretation**\n",
    "\n",
    "- **H0**: the two samples are independent.\n",
    "- **H1**: there is a dependency between the samples."
   ]
  },
  {
   "cell_type": "code",
   "execution_count": 29,
   "metadata": {},
   "outputs": [
    {
     "name": "stdout",
     "output_type": "stream",
     "text": [
      "stat=0.733, p=0.002\n",
      "Probably dependent\n"
     ]
    }
   ],
   "source": [
    "from scipy.stats import kendalltau\n",
    "data1 = [0.873, 2.817, 0.121, -0.945, -0.055, -1.436, 0.360, -1.478, -1.637, -1.869]\n",
    "data2 = [0.353, 3.517, 0.125, -7.545, -0.555, -1.536, 3.350, -1.578, -3.537, -1.579]\n",
    "stat, p = kendalltau(data1, data2)\n",
    "print('stat=%.3f, p=%.3f' % (stat, p))\n",
    "if p > 0.05:\n",
    "    print('Probably independent')\n",
    "else:\n",
    "    print('Probably dependent')"
   ]
  },
  {
   "cell_type": "markdown",
   "metadata": {},
   "source": [
    "## Chi-squared Test"
   ]
  },
  {
   "cell_type": "markdown",
   "metadata": {},
   "source": [
    "Tests whether **two categorical** variables are related or independent.\n",
    "\n",
    "**Assumptions**\n",
    "\n",
    "- Observations used in the calculation of the contingency table are independent.\n",
    "- 25 or more examples in each cell of the contingency table.\n",
    "\n",
    "**Interpretation**\n",
    "\n",
    "- **H0**: the two samples are independent.\n",
    "- **H1**: there is a dependency between the samples."
   ]
  },
  {
   "cell_type": "code",
   "execution_count": 33,
   "metadata": {},
   "outputs": [
    {
     "name": "stdout",
     "output_type": "stream",
     "text": [
      "stat=1.333, p=0.721\n",
      "Probably independent\n"
     ]
    }
   ],
   "source": [
    "import pandas as pd\n",
    "import numpy as np\n",
    "\n",
    "data = {\n",
    "    'Producto': ['A', 'A', 'A', 'B', 'B', 'B', 'C', 'C', 'C', 'D', 'D', 'D'],\n",
    "    'Genero': ['Masculino', 'Femenino', 'Masculino', 'Femenino', 'Masculino', 'Femenino', \n",
    "               'Masculino', 'Femenino', 'Masculino', 'Femenino', 'Masculino', 'Femenino'],\n",
    "}\n",
    "df = pd.DataFrame(data)\n",
    "\n",
    "# Crear una tabla de contingencia con las frecuencias\n",
    "contingency_table = pd.crosstab(df['Producto'], df['Genero'])\n",
    "from scipy.stats import chi2_contingency\n",
    "stat, p, dof, expected = chi2_contingency(contingency_table)\n",
    "print('stat=%.3f, p=%.3f' % (stat, p))\n",
    "if p > 0.05:\n",
    "    print('Probably independent')\n",
    "else:\n",
    "    print('Probably dependent')"
   ]
  }
 ],
 "metadata": {
  "kernelspec": {
   "display_name": "DataMining",
   "language": "python",
   "name": "python3"
  },
  "language_info": {
   "codemirror_mode": {
    "name": "ipython",
    "version": 3
   },
   "file_extension": ".py",
   "mimetype": "text/x-python",
   "name": "python",
   "nbconvert_exporter": "python",
   "pygments_lexer": "ipython3",
   "version": "3.12.7"
  }
 },
 "nbformat": 4,
 "nbformat_minor": 2
}
