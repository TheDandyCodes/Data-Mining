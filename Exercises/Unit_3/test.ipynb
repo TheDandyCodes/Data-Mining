{
 "cells": [
  {
   "cell_type": "code",
   "execution_count": 2,
   "metadata": {},
   "outputs": [
    {
     "data": {
      "text/plain": [
       "29328    0\n",
       "Name: previous, dtype: int64"
      ]
     },
     "execution_count": 2,
     "metadata": {},
     "output_type": "execute_result"
    }
   ],
   "source": [
    "import pandas as  pd\n",
    "bank_marketing_df = pd.read_parquet('bank_marketing_dataset.parquet')\n",
    "bank_marketing_df['previous'][bank_marketing_df['previous'].index == 13182]\n",
    "bank_marketing_df['previous'][bank_marketing_df['previous'].index == 29328]"
   ]
  },
  {
   "cell_type": "code",
   "execution_count": 7,
   "metadata": {},
   "outputs": [
    {
     "data": {
      "text/plain": [
       "8     0.099032\n",
       "9     0.133018\n",
       "10    0.151975\n",
       "11    0.063314\n",
       "12    0.094426\n",
       "13    0.094426\n",
       "dtype: float64"
      ]
     },
     "execution_count": 7,
     "metadata": {},
     "output_type": "execute_result"
    }
   ],
   "source": [
    "from NaiveBayes import NaiveBayes\n",
    "import pandas as pd\n",
    "feature = pd.Series([1, 2, 3, 4, 5, 0, 0, 0, 5, 4, 2, 6, 0, 0])\n",
    "mean1= feature[:8].mean()\n",
    "mean1= feature[:8].std()\n",
    "mean2= feature[8:].mean()\n",
    "mean2= feature[8:].std()\n",
    "\n",
    "nb = NaiveBayes()\n",
    "nb._gauss_likelihood(feature=feature[8:], mean=mean2, std=mean2)"
   ]
  },
  {
   "cell_type": "code",
   "execution_count": null,
   "metadata": {},
   "outputs": [
    {
     "data": {
      "text/plain": [
       "1.875"
      ]
     },
     "execution_count": 5,
     "metadata": {},
     "output_type": "execute_result"
    }
   ],
   "source": []
  }
 ],
 "metadata": {
  "kernelspec": {
   "display_name": "DataMining",
   "language": "python",
   "name": "python3"
  },
  "language_info": {
   "codemirror_mode": {
    "name": "ipython",
    "version": 3
   },
   "file_extension": ".py",
   "mimetype": "text/x-python",
   "name": "python",
   "nbconvert_exporter": "python",
   "pygments_lexer": "ipython3",
   "version": "3.11.8"
  }
 },
 "nbformat": 4,
 "nbformat_minor": 2
}
