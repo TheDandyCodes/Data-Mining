{
 "cells": [
  {
   "cell_type": "code",
   "execution_count": 89,
   "metadata": {},
   "outputs": [],
   "source": [
    "import pandas as pd\n",
    "from ucimlrepo import fetch_ucirepo\n",
    "from typing import List, Dict\n",
    "import numpy as np"
   ]
  },
  {
   "cell_type": "code",
   "execution_count": 217,
   "metadata": {},
   "outputs": [],
   "source": [
    "iris_dataset = fetch_ucirepo(id=53)\n",
    "X_iris = iris_dataset.data.features\n",
    "y_iris = iris_dataset.data.targets['class']"
   ]
  },
  {
   "cell_type": "code",
   "execution_count": 144,
   "metadata": {},
   "outputs": [],
   "source": [
    "dataset = np.array([[3.393533211,2.331273381,0],\n",
    "\t[3.110073483,1.781539638,0],\n",
    "\t[1.343808831,3.368360954,0],\n",
    "\t[3.582294042,4.67917911,0],\n",
    "\t[2.280362439,2.866990263,0],\n",
    "\t[7.423436942,4.696522875,1],\n",
    "\t[5.745051997,3.533989803,1],\n",
    "\t[9.172168622,2.511101045,1],\n",
    "\t[7.792783481,3.424088941,1],\n",
    "\t[7.939820817,0.791637231,1]])\n",
    "dataset_df = pd.DataFrame(dataset, columns=['x1', 'x2', 'class'])\n",
    "X_train = dataset_df.iloc[:, :-1]\n",
    "y_train = dataset_df['class']"
   ]
  },
  {
   "cell_type": "code",
   "execution_count": 201,
   "metadata": {},
   "outputs": [],
   "source": [
    "def get_parameters(X_train: pd.DataFrame, y_train: pd.Series):\n",
    "    \"\"\"Calculates the mean and the standard deviation of the features per class.\n",
    "\n",
    "    Returns:\n",
    "        Dict[str, Dict[str, Dict[str, float]]]: Mean and standard deviation of the features per class.\n",
    "    \"\"\"\n",
    "    parameters = {}\n",
    "    for class_ in np.unique(y_train):\n",
    "        parameters[class_] = {\n",
    "            'apriori': len(y_train[y_train == class_])/len(y_train)\n",
    "        }\n",
    "\n",
    "        for feature in X_train.columns:\n",
    "            parameters[class_][feature] = {}\n",
    "            parameters[class_][feature]['mean'] = X_train[y_train == class_][feature].mean()\n",
    "            parameters[class_][feature]['std'] = X_train[y_train == class_][feature].std()\n",
    "\n",
    "    return parameters"
   ]
  },
  {
   "cell_type": "code",
   "execution_count": 204,
   "metadata": {},
   "outputs": [
    {
     "data": {
      "text/plain": [
       "{0.0: {'apriori': 0.5,\n",
       "  'x1': {'mean': 2.7420144012, 'std': 0.9265683289298018},\n",
       "  'x2': {'mean': 3.0054686692, 'std': 1.1073295894898725}},\n",
       " 1.0: {'apriori': 0.5,\n",
       "  'x1': {'mean': 7.6146523718, 'std': 1.2344321550313704},\n",
       "  'x2': {'mean': 2.9914679790000003, 'std': 1.4541931384601618}}}"
      ]
     },
     "execution_count": 204,
     "metadata": {},
     "output_type": "execute_result"
    }
   ],
   "source": [
    "parameters = get_parameters(X_train=X_train, y_train=y_train)\n",
    "parameters"
   ]
  },
  {
   "cell_type": "code",
   "execution_count": 205,
   "metadata": {},
   "outputs": [],
   "source": [
    "def _gauss_likelihood(feature: pd.Series, mean: float, std: float) -> pd.Series:\n",
    "    \"\"\"Calculates the likelihood of a feature given a mean and a standard deviation.\n",
    "\n",
    "    Args:\n",
    "        feature (pd.Series): Feature to calculate the likelihood.\n",
    "        mean (float): Mean of the values of the feature per class.\n",
    "        std (float): Standard deviation of the values of the feature per class.\n",
    "\n",
    "    Returns:\n",
    "        pd.Series: Likelihood of the feature given the mean and the standard deviation.\n",
    "    \"\"\"\n",
    "    exponent = np.exp(-1/2*((feature - mean)/std)**2)\n",
    "    function = 1/(std*np.sqrt(2*np.pi))*exponent\n",
    "    return function"
   ]
  },
  {
   "cell_type": "code",
   "execution_count": 211,
   "metadata": {},
   "outputs": [],
   "source": [
    "def fit(X_train: pd.DataFrame, y_train: pd.Series) -> Dict[str, Dict[str, Dict[str, float]]]:\n",
    "    \"\"\"Calculates the mean and the standard deviation of the features per class.\n",
    "\n",
    "    Returns:\n",
    "        Dict[str, Dict[str, Dict[str, float]]]: Mean and standard deviation of the features per class.\n",
    "    \"\"\"\n",
    "    parameters = get_parameters(X_train=X_train, y_train=y_train)\n",
    "    probabilities = {}\n",
    "    for class_ in np.unique(y_train):\n",
    "        likelihood = 1\n",
    "        for feat in X_train.columns:\n",
    "            likelihood*=_gauss_likelihood(X_train[feat], parameters[class_][feat]['mean'], parameters[class_][feat]['std'])\n",
    "        probabilities[class_] = likelihood*parameters[class_]['apriori']\n",
    "    return probabilities\n",
    "        "
   ]
  },
  {
   "cell_type": "code",
   "execution_count": 219,
   "metadata": {},
   "outputs": [],
   "source": [
    "probabilities = fit(X_train=X_iris, y_train=y_iris)"
   ]
  },
  {
   "cell_type": "code",
   "execution_count": 222,
   "metadata": {},
   "outputs": [
    {
     "data": {
      "text/html": [
       "<div>\n",
       "<style scoped>\n",
       "    .dataframe tbody tr th:only-of-type {\n",
       "        vertical-align: middle;\n",
       "    }\n",
       "\n",
       "    .dataframe tbody tr th {\n",
       "        vertical-align: top;\n",
       "    }\n",
       "\n",
       "    .dataframe thead th {\n",
       "        text-align: right;\n",
       "    }\n",
       "</style>\n",
       "<table border=\"1\" class=\"dataframe\">\n",
       "  <thead>\n",
       "    <tr style=\"text-align: right;\">\n",
       "      <th></th>\n",
       "      <th>Iris-setosa</th>\n",
       "      <th>Iris-versicolor</th>\n",
       "      <th>Iris-virginica</th>\n",
       "    </tr>\n",
       "  </thead>\n",
       "  <tbody>\n",
       "    <tr>\n",
       "      <th>0</th>\n",
       "      <td>2.736783e+00</td>\n",
       "      <td>8.322426e-18</td>\n",
       "      <td>6.008423e-25</td>\n",
       "    </tr>\n",
       "    <tr>\n",
       "      <th>1</th>\n",
       "      <td>1.519728e+00</td>\n",
       "      <td>4.716457e-17</td>\n",
       "      <td>1.032493e-24</td>\n",
       "    </tr>\n",
       "    <tr>\n",
       "      <th>2</th>\n",
       "      <td>1.157609e+00</td>\n",
       "      <td>2.753295e-18</td>\n",
       "      <td>8.422280e-26</td>\n",
       "    </tr>\n",
       "    <tr>\n",
       "      <th>3</th>\n",
       "      <td>1.105612e+00</td>\n",
       "      <td>3.332872e-17</td>\n",
       "      <td>9.435992e-25</td>\n",
       "    </tr>\n",
       "    <tr>\n",
       "      <th>4</th>\n",
       "      <td>2.589006e+00</td>\n",
       "      <td>2.702798e-18</td>\n",
       "      <td>2.360722e-25</td>\n",
       "    </tr>\n",
       "    <tr>\n",
       "      <th>...</th>\n",
       "      <td>...</td>\n",
       "      <td>...</td>\n",
       "      <td>...</td>\n",
       "    </tr>\n",
       "    <tr>\n",
       "      <th>145</th>\n",
       "      <td>5.228938e-186</td>\n",
       "      <td>1.046795e-07</td>\n",
       "      <td>1.322454e-01</td>\n",
       "    </tr>\n",
       "    <tr>\n",
       "      <th>146</th>\n",
       "      <td>2.237519e-146</td>\n",
       "      <td>1.294745e-03</td>\n",
       "      <td>4.543724e-02</td>\n",
       "    </tr>\n",
       "    <tr>\n",
       "      <th>147</th>\n",
       "      <td>2.742285e-163</td>\n",
       "      <td>9.585593e-05</td>\n",
       "      <td>2.178377e-01</td>\n",
       "    </tr>\n",
       "    <tr>\n",
       "      <th>148</th>\n",
       "      <td>2.727127e-194</td>\n",
       "      <td>1.866789e-08</td>\n",
       "      <td>5.516259e-02</td>\n",
       "    </tr>\n",
       "    <tr>\n",
       "      <th>149</th>\n",
       "      <td>5.939526e-143</td>\n",
       "      <td>4.895245e-03</td>\n",
       "      <td>7.685700e-02</td>\n",
       "    </tr>\n",
       "  </tbody>\n",
       "</table>\n",
       "<p>150 rows × 3 columns</p>\n",
       "</div>"
      ],
      "text/plain": [
       "       Iris-setosa  Iris-versicolor  Iris-virginica\n",
       "0     2.736783e+00     8.322426e-18    6.008423e-25\n",
       "1     1.519728e+00     4.716457e-17    1.032493e-24\n",
       "2     1.157609e+00     2.753295e-18    8.422280e-26\n",
       "3     1.105612e+00     3.332872e-17    9.435992e-25\n",
       "4     2.589006e+00     2.702798e-18    2.360722e-25\n",
       "..             ...              ...             ...\n",
       "145  5.228938e-186     1.046795e-07    1.322454e-01\n",
       "146  2.237519e-146     1.294745e-03    4.543724e-02\n",
       "147  2.742285e-163     9.585593e-05    2.178377e-01\n",
       "148  2.727127e-194     1.866789e-08    5.516259e-02\n",
       "149  5.939526e-143     4.895245e-03    7.685700e-02\n",
       "\n",
       "[150 rows x 3 columns]"
      ]
     },
     "execution_count": 222,
     "metadata": {},
     "output_type": "execute_result"
    }
   ],
   "source": [
    "pd.DataFrame(probabilities)"
   ]
  },
  {
   "cell_type": "markdown",
   "metadata": {},
   "source": [
    "P(class=0|X1,X2) = P(X1|class=0) * P(X2|class=0) * P(class=0)\n",
    "\n",
    "P(class=1|X1,X2) = P(X1|class=1) * P(X2|class=1) * P(class=1)"
   ]
  }
 ],
 "metadata": {
  "kernelspec": {
   "display_name": "DataMining",
   "language": "python",
   "name": "python3"
  },
  "language_info": {
   "codemirror_mode": {
    "name": "ipython",
    "version": 3
   },
   "file_extension": ".py",
   "mimetype": "text/x-python",
   "name": "python",
   "nbconvert_exporter": "python",
   "pygments_lexer": "ipython3",
   "version": "3.12.7"
  }
 },
 "nbformat": 4,
 "nbformat_minor": 2
}
